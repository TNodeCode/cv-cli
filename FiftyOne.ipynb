{
 "cells": [
  {
   "cell_type": "code",
   "execution_count": null,
   "id": "9297d1d5-2b54-421b-bea8-c11be56da1b6",
   "metadata": {},
   "outputs": [],
   "source": [
    "import fiftyone as fo\n",
    "import fiftyone.zoo as foz\n",
    "\n",
    "# Define the dataset directory and label paths\n",
    "dataset_dir = \"./data/spine\"\n",
    "train_images_dir = f\"{dataset_dir}/train2017\"\n",
    "val_images_dir = f\"{dataset_dir}/val2017\"\n",
    "test_images_dir = f\"{dataset_dir}/test2017\"\n",
    "\n",
    "train_labels_path = f\"{dataset_dir}/annotations/instances_train2017_mixed_seg.json\"\n",
    "val_labels_path = f\"{dataset_dir}/annotations/instances_val2017_mixed_seg.json\"\n",
    "test_labels_path = f\"{dataset_dir}/annotations/instances_test2017_mixed_seg.json\"\n",
    "\n",
    "# Load the COCO datasets into FiftyOne\n",
    "train_dataset = fo.Dataset.from_dir(\n",
    "    dataset_type=fo.types.COCODetectionDataset,\n",
    "    data_path=test_images_dir,\n",
    "    labels_path=test_labels_path,\n",
    ")"
   ]
  },
  {
   "cell_type": "code",
   "execution_count": null,
   "id": "79e37fb8-2872-44b9-a845-ef92a57334d0",
   "metadata": {},
   "outputs": [],
   "source": [
    "print(train_dataset)"
   ]
  },
  {
   "cell_type": "code",
   "execution_count": null,
   "id": "4f15d16a-14c2-4508-a455-8ac18f6d4e10",
   "metadata": {},
   "outputs": [],
   "source": [
    "# Run this cell and then open http://localhost:5151\n",
    "session = fo.launch_app(train_dataset)"
   ]
  },
  {
   "cell_type": "code",
   "execution_count": null,
   "id": "224e283f-221f-4b01-87c2-51179ad646fa",
   "metadata": {},
   "outputs": [],
   "source": []
  }
 ],
 "metadata": {
  "kernelspec": {
   "display_name": "torch-dml",
   "language": "python",
   "name": "python3"
  },
  "language_info": {
   "codemirror_mode": {
    "name": "ipython",
    "version": 3
   },
   "file_extension": ".py",
   "mimetype": "text/x-python",
   "name": "python",
   "nbconvert_exporter": "python",
   "pygments_lexer": "ipython3",
   "version": "3.12.4"
  }
 },
 "nbformat": 4,
 "nbformat_minor": 5
}
